{
  "nbformat": 4,
  "nbformat_minor": 0,
  "metadata": {
    "colab": {
      "provenance": [],
      "authorship_tag": "ABX9TyNAEFP+UNe58CPaTWK5D3QP",
      "include_colab_link": true
    },
    "kernelspec": {
      "name": "python3",
      "display_name": "Python 3"
    },
    "language_info": {
      "name": "python"
    }
  },
  "cells": [
    {
      "cell_type": "markdown",
      "metadata": {
        "id": "view-in-github",
        "colab_type": "text"
      },
      "source": [
        "<a href=\"https://colab.research.google.com/github/LorenzoBertozzi/eight-pieces-square-problem-AI/blob/main/8PiecesPuzzle.ipynb\" target=\"_parent\"><img src=\"https://colab.research.google.com/assets/colab-badge.svg\" alt=\"Open In Colab\"/></a>"
      ]
    },
    {
      "cell_type": "code",
      "source": [
        "import heapq\n",
        "\n",
        "class PuzzleNode:\n",
        "\n",
        "    def __init__(self, state, parent=None, action=None):\n",
        "        self.state = state\n",
        "        self.parent = parent\n",
        "        self.action = action\n",
        "        self.cost = 0 if parent is None else parent.cost + 1\n",
        "\n",
        "    def __lt__(self, other):\n",
        "        return (self.cost + self.heuristic()) < (other.cost + other.heuristic())\n",
        "\n",
        "    def __eq__(self, other):\n",
        "        return self.state == other.state\n",
        "\n",
        "    def __hash__(self):\n",
        "        return hash(self.state)\n",
        "\n",
        "    def is_goal(self, goal_state):\n",
        "        return self.state == goal_state\n",
        "\n",
        "    def find_legal_actions(self):\n",
        "        actions = []\n",
        "        i, j = self.state.index(0) // 3, self.state.index(0) % 3  # Find the empty square\n",
        "        if i > 0:\n",
        "            actions.append('Up')\n",
        "        if i < 2:\n",
        "            actions.append('Down')\n",
        "        if j > 0:\n",
        "            actions.append('Left')\n",
        "        if j < 2:\n",
        "            actions.append('Right')\n",
        "        return actions\n",
        "\n",
        "    def move(self, action):\n",
        "        i, j = self.state.index(0) // 3, self.state.index(0) % 3\n",
        "        new_state = list(self.state)\n",
        "        if action == 'Up':\n",
        "            new_i = i - 1\n",
        "            new_state[i * 3 + j], new_state[new_i * 3 + j] = new_state[new_i * 3 + j], new_state[i * 3 + j]\n",
        "        elif action == 'Down':\n",
        "            new_i = i + 1\n",
        "            new_state[i * 3 + j], new_state[new_i * 3 + j] = new_state[new_i * 3 + j], new_state[i * 3 + j]\n",
        "        elif action == 'Left':\n",
        "            new_j = j - 1\n",
        "            new_state[i * 3 + j], new_state[i * 3 + new_j] = new_state[i * 3 + new_j], new_state[i * 3 + j]\n",
        "        elif action == 'Right':\n",
        "            new_j = j + 1\n",
        "            new_state[i * 3 + j], new_state[i * 3 + new_j] = new_state[i * 3 + new_j], new_state[i * 3 + j]\n",
        "        return PuzzleNode(tuple(new_state), self, action)\n",
        "\n",
        "    def heuristic(self):\n",
        "      total_distance = 0;\n",
        "      for i in range(3):\n",
        "          for j in range(3):\n",
        "              if self.state[i * 3 + j] != 0:\n",
        "                  goal_position = goal_state.index(self.state[i * 3 + j])\n",
        "                  goal_i, goal_j = goal_position // 3, goal_position % 3\n",
        "                  total_distance += abs(i - goal_i) + abs(j - goal_j)\n",
        "      return total_distance\n",
        "\n",
        "def is_possible(initial_state):\n",
        "    inversion_count = 0\n",
        "    size = len(initial_state)\n",
        "\n",
        "    for i in range(size):\n",
        "        for j in range(i + 1, size):\n",
        "            if initial_state[i] > initial_state[j] and initial_state[i] != 0 and initial_state[j] != 0:\n",
        "                inversion_count += 1\n",
        "\n",
        "    return inversion_count % 2 == 0\n",
        "\n",
        "def solve_puzzle(initial_state, goal_state):\n",
        "    #indentificar se initial_state is_possivel\n",
        "    if is_possible(initial_state):\n",
        "      open_set = [PuzzleNode(initial_state)]\n",
        "      closed_set = set()\n",
        "      while open_set:\n",
        "          current_node = heapq.heappop(open_set)\n",
        "\n",
        "          if current_node.is_goal(goal_state):\n",
        "              solution = []\n",
        "              while current_node.parent:\n",
        "                  solution.append(current_node.action)\n",
        "                  current_node = current_node.parent\n",
        "              solution.reverse()\n",
        "              return solution\n",
        "\n",
        "          closed_set.add(current_node)\n",
        "\n",
        "          for action in current_node.find_legal_actions():\n",
        "              child_node = current_node.move(action)\n",
        "              if child_node in closed_set:\n",
        "                  continue\n",
        "              if child_node not in open_set:\n",
        "                  heapq.heappush(open_set, child_node)\n",
        "\n",
        "    return None\n",
        "\n",
        "# Exemplo de uso:\n",
        "#(1, 2, 3, 0, 4, 6, 7, 5, 8)\n",
        "#(7, 2, 4, 5, 0, 6, 8, 3, 1)\n",
        "#(8, 1, 2, 0, 4, 3, 7, 6, 5) -- impossivel\n",
        "\n",
        "initial_state = (7, 2, 4, 5, 0, 6, 8, 3, 1)  # Estado inicial\n",
        "goal_state = (0, 1, 2, 3, 4, 5, 6, 7, 8)  # Estado objetivo\n",
        "\n",
        "#(1, 2, 3, 4, 5, 6, 7, 8, 0)\n",
        "\n",
        "solution = solve_puzzle(initial_state, goal_state)\n",
        "if solution:\n",
        "    print(\"Solução encontrada:\", solution)\n",
        "else:\n",
        "    print(\"Não foi possível encontrar uma solução.\")\n"
      ],
      "metadata": {
        "colab": {
          "base_uri": "https://localhost:8080/"
        },
        "id": "ZJUmKBwJ0doF",
        "outputId": "deb3a898-4726-4a84-a41b-ebc9d535c5dc"
      },
      "execution_count": null,
      "outputs": [
        {
          "output_type": "stream",
          "name": "stdout",
          "text": [
            "Solução encontrada: ['Left', 'Up', 'Right', 'Down', 'Down', 'Left', 'Up', 'Right', 'Right', 'Up', 'Left', 'Left', 'Down', 'Right', 'Right', 'Down', 'Left', 'Up', 'Right', 'Up', 'Left', 'Down', 'Down', 'Left', 'Up', 'Up']\n"
          ]
        }
      ]
    }
  ]
}